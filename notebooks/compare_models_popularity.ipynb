{
 "cells": [
  {
   "cell_type": "markdown",
   "metadata": {},
   "source": [
    "# Comparison of ALS and TF-IDF Recommenders by Popularity Buckets"
   ]
  },
  {
   "cell_type": "code",
   "metadata": {},
   "source": [
    "import polars as pl\n",
    "from utils import get_data\n",
    "from models.implicit_model import ALSRecommender\n",
    "from models.tfidf_model import TfidfRecommender\n",
    "import numpy as np"
   ]
  },
  {
   "cell_type": "code",
   "metadata": {},
   "source": [
    "# Load data\n",
    "df_test_users, df_clickstream, df_cat, df_text, df_events, df_train, df_eval = get_data()"
   ]
  },
  {
   "cell_type": "code",
   "metadata": {},
   "source": [
    "# Compute item popularity from training data\n",
    "pop_counts = df_train.groupby('node').count().rename({'count':'freq'})\n",
    "pop_counts = pop_counts.sort('freq', reverse=True)\n",
    "total_items = pop_counts.shape[0]\n",
    "quantiles = [0.33, 0.66]\n",
    "freqs = pop_counts['freq'].to_list()\n",
    "th1 = freqs[int(total_items * quantiles[0])]\n",
    "th2 = freqs[int(total_items * quantiles[1])]\n",
    "def bucket(node):\n",
    "    f = pop_counts.filter(pl.col('node') == node)['freq'][0]\n",
    "    if f >= th2:\n",
    "        return 'high'\n",
    "    elif f >= th1:\n",
    "        return 'medium'\n",
    "    else:\n",
    "        return 'low'"
   ]
  },
  {
   "cell_type": "code",
   "metadata": {},
   "source": [
    "# Evaluation by bucket function\n",
    "def eval_by_bucket(model, df_eval, N=40):\n",
    "    preds = model.predict(df_eval['cookie'].to_list(), N=N)\n",
    "    df_true = df_eval.select(['cookie','node']).with_column(pl.lit(1).alias('true'))\n",
    "    df_pred = preds.with_column(pl.lit(1).alias('pred'))\n",
    "    df_merge = df_true.join(df_pred, on=['cookie','node'], how='left').fill_null('pred', 0)\n",
    "    df_merge = df_merge.with_column(df_merge['node'].apply(bucket).alias('bucket'))\n",
    "    result = {}\n",
    "    for b in ['high','medium','low']:\n",
    "        df_b = df_merge.filter(pl.col('bucket') == b)\n",
    "        result[b] = df_b['pred'].sum() / df_b.shape[0] if df_b.shape[0] > 0 else None\n",
    "    return result"
   ]
  },
  {
   "cell_type": "code",
   "metadata": {},
   "source": [
    "# Run for ALS\n",
    "als = ALSRecommender(df_events)\n",
    "als.fit(df_train['cookie'], df_train['node'], df_train['event'])\n",
    "res_als = eval_by_bucket(als, df_eval)"
   ]
  },
  {
   "cell_type": "code",
   "metadata": {},
   "source": [
    "# Run for TF-IDF\n",
    "tfidf = TfidfRecommender(df_events)\n",
    "tfidf.fit(df_train['cookie'], df_train['node'], df_train['event'])\n",
    "res_tfidf = eval_by_bucket(tfidf, df_eval)"
   ]
  },
  {
   "cell_type": "code",
   "metadata": {},
   "source": [
    "# Display results\n",
    "import pandas as pd\n",
    "pd.DataFrame({'ALS': res_als, 'TF-IDF': res_tfidf})"
   ]
  }
 ],
 "metadata": {
  "kernelspec": {
   "display_name": "Python 3",
   "language": "python",
   "name": "python3"
  },
  "language_info": {
   "name": "python"
  }
 },
 "nbformat": 4,
 "nbformat_minor": 2
}
